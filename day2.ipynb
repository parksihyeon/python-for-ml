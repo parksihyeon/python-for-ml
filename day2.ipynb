{
 "cells": [
  {
   "cell_type": "markdown",
   "metadata": {},
   "source": [
    "### 기본 자료구조\n",
    "### list"
   ]
  },
  {
   "cell_type": "code",
   "execution_count": 3,
   "metadata": {},
   "outputs": [],
   "source": [
    "numbers = [1,3,5,7,9]"
   ]
  },
  {
   "cell_type": "code",
   "execution_count": 4,
   "metadata": {},
   "outputs": [],
   "source": [
    "names = [\n",
    "    'Tom',\n",
    "    'Steve',\n",
    "    'Min',\n",
    "]"
   ]
  },
  {
   "cell_type": "code",
   "execution_count": 5,
   "metadata": {},
   "outputs": [],
   "source": [
    "values =[1,2.0, \"hello\",[\"a\",\"b\",\"c\"]]"
   ]
  },
  {
   "cell_type": "code",
   "execution_count": 6,
   "metadata": {},
   "outputs": [
    {
     "data": {
      "text/plain": [
       "1"
      ]
     },
     "execution_count": 6,
     "metadata": {},
     "output_type": "execute_result"
    }
   ],
   "source": [
    "numbers[0]"
   ]
  },
  {
   "cell_type": "code",
   "execution_count": 7,
   "metadata": {},
   "outputs": [
    {
     "data": {
      "text/plain": [
       "9"
      ]
     },
     "execution_count": 7,
     "metadata": {},
     "output_type": "execute_result"
    }
   ],
   "source": [
    "numbers[4]"
   ]
  },
  {
   "cell_type": "code",
   "execution_count": 8,
   "metadata": {},
   "outputs": [
    {
     "data": {
      "text/plain": [
       "5"
      ]
     },
     "execution_count": 8,
     "metadata": {},
     "output_type": "execute_result"
    }
   ],
   "source": [
    "len(numbers)"
   ]
  },
  {
   "cell_type": "code",
   "execution_count": 9,
   "metadata": {},
   "outputs": [
    {
     "data": {
      "text/plain": [
       "9"
      ]
     },
     "execution_count": 9,
     "metadata": {},
     "output_type": "execute_result"
    }
   ],
   "source": [
    "numbers[len(numbers)-1]"
   ]
  },
  {
   "cell_type": "code",
   "execution_count": 10,
   "metadata": {},
   "outputs": [
    {
     "data": {
      "text/plain": [
       "9"
      ]
     },
     "execution_count": 10,
     "metadata": {},
     "output_type": "execute_result"
    }
   ],
   "source": [
    "numbers[-1]"
   ]
  },
  {
   "cell_type": "code",
   "execution_count": 11,
   "metadata": {},
   "outputs": [
    {
     "ename": "SyntaxError",
     "evalue": "invalid syntax (<ipython-input-11-0e108c122e10>, line 1)",
     "output_type": "error",
     "traceback": [
      "\u001b[1;36m  File \u001b[1;32m\"<ipython-input-11-0e108c122e10>\"\u001b[1;36m, line \u001b[1;32m1\u001b[0m\n\u001b[1;33m    numbers{10}\u001b[0m\n\u001b[1;37m           ^\u001b[0m\n\u001b[1;31mSyntaxError\u001b[0m\u001b[1;31m:\u001b[0m invalid syntax\n"
     ]
    }
   ],
   "source": [
    "numbers{10}"
   ]
  },
  {
   "cell_type": "code",
   "execution_count": 12,
   "metadata": {},
   "outputs": [
    {
     "ename": "IndexError",
     "evalue": "list index out of range",
     "output_type": "error",
     "traceback": [
      "\u001b[1;31m---------------------------------------------------------------------------\u001b[0m",
      "\u001b[1;31mIndexError\u001b[0m                                Traceback (most recent call last)",
      "\u001b[1;32m<ipython-input-12-93305a1bc3f6>\u001b[0m in \u001b[0;36m<module>\u001b[1;34m()\u001b[0m\n\u001b[1;32m----> 1\u001b[1;33m \u001b[0mnumbers\u001b[0m\u001b[1;33m[\u001b[0m\u001b[1;36m10\u001b[0m\u001b[1;33m]\u001b[0m\u001b[1;33m\u001b[0m\u001b[0m\n\u001b[0m",
      "\u001b[1;31mIndexError\u001b[0m: list index out of range"
     ]
    }
   ],
   "source": [
    "numbers[10]"
   ]
  },
  {
   "cell_type": "code",
   "execution_count": 13,
   "metadata": {},
   "outputs": [],
   "source": [
    "numbers[0]=100"
   ]
  },
  {
   "cell_type": "code",
   "execution_count": 14,
   "metadata": {},
   "outputs": [
    {
     "name": "stdout",
     "output_type": "stream",
     "text": [
      "[100, 3, 5, 7, 9]\n"
     ]
    }
   ],
   "source": [
    "print(numbers)"
   ]
  },
  {
   "cell_type": "code",
   "execution_count": 15,
   "metadata": {},
   "outputs": [],
   "source": [
    "numbers.append(200)"
   ]
  },
  {
   "cell_type": "code",
   "execution_count": 16,
   "metadata": {},
   "outputs": [
    {
     "data": {
      "text/plain": [
       "[100, 3, 5, 7, 9, 200]"
      ]
     },
     "execution_count": 16,
     "metadata": {},
     "output_type": "execute_result"
    }
   ],
   "source": [
    "numbers"
   ]
  },
  {
   "cell_type": "code",
   "execution_count": 17,
   "metadata": {},
   "outputs": [
    {
     "data": {
      "text/plain": [
       "[100, 300, 3, 5, 7, 9, 200]"
      ]
     },
     "execution_count": 17,
     "metadata": {},
     "output_type": "execute_result"
    }
   ],
   "source": [
    "numbers.insert(1,300)\n",
    "numbers"
   ]
  },
  {
   "cell_type": "code",
   "execution_count": 18,
   "metadata": {},
   "outputs": [],
   "source": [
    "import random"
   ]
  },
  {
   "cell_type": "code",
   "execution_count": 19,
   "metadata": {},
   "outputs": [
    {
     "data": {
      "text/plain": [
       "32"
      ]
     },
     "execution_count": 19,
     "metadata": {},
     "output_type": "execute_result"
    }
   ],
   "source": [
    "random.randint(1,45)"
   ]
  },
  {
   "cell_type": "raw",
   "metadata": {},
   "source": [
    "### Quiz\n",
    "로또 번호뽑기"
   ]
  },
  {
   "cell_type": "code",
   "execution_count": 22,
   "metadata": {},
   "outputs": [
    {
     "ename": "NameError",
     "evalue": "name 'looto_numbers' is not defined",
     "output_type": "error",
     "traceback": [
      "\u001b[1;31m---------------------------------------------------------------------------\u001b[0m",
      "\u001b[1;31mNameError\u001b[0m                                 Traceback (most recent call last)",
      "\u001b[1;32m<ipython-input-22-55eaaf9440d7>\u001b[0m in \u001b[0;36m<module>\u001b[1;34m()\u001b[0m\n\u001b[0;32m      1\u001b[0m \u001b[0mlotto_numbers\u001b[0m \u001b[1;33m=\u001b[0m\u001b[1;33m[\u001b[0m\u001b[1;33m]\u001b[0m\u001b[1;33m\u001b[0m\u001b[0m\n\u001b[0;32m      2\u001b[0m \u001b[1;32mfor\u001b[0m \u001b[0mi\u001b[0m \u001b[1;32min\u001b[0m \u001b[0mrange\u001b[0m\u001b[1;33m(\u001b[0m\u001b[1;36m6\u001b[0m\u001b[1;33m)\u001b[0m\u001b[1;33m:\u001b[0m\u001b[1;33m\u001b[0m\u001b[0m\n\u001b[1;32m----> 3\u001b[1;33m     \u001b[0mlooto_numbers\u001b[0m\u001b[1;33m.\u001b[0m\u001b[0mappend\u001b[0m\u001b[1;33m(\u001b[0m\u001b[0mrandim\u001b[0m\u001b[1;33m.\u001b[0m\u001b[0mrandint\u001b[0m\u001b[1;33m(\u001b[0m\u001b[1;36m1\u001b[0m\u001b[1;33m,\u001b[0m\u001b[1;36m45\u001b[0m\u001b[1;33m)\u001b[0m\u001b[1;33m)\u001b[0m\u001b[1;33m\u001b[0m\u001b[0m\n\u001b[0m\u001b[0;32m      4\u001b[0m \u001b[1;33m\u001b[0m\u001b[0m\n\u001b[0;32m      5\u001b[0m \u001b[0mlotto_numbers\u001b[0m\u001b[1;33m\u001b[0m\u001b[0m\n",
      "\u001b[1;31mNameError\u001b[0m: name 'looto_numbers' is not defined"
     ]
    }
   ],
   "source": [
    "lotto_numbers =[]\n",
    "for i in range(6):\n",
    "    looto_numbers.append(randim.randint(1,45))\n",
    "    \n",
    "lotto_numbers"
   ]
  },
  {
   "cell_type": "code",
   "execution_count": 23,
   "metadata": {},
   "outputs": [
    {
     "ename": "NameError",
     "evalue": "name 'randim' is not defined",
     "output_type": "error",
     "traceback": [
      "\u001b[1;31m---------------------------------------------------------------------------\u001b[0m",
      "\u001b[1;31mNameError\u001b[0m                                 Traceback (most recent call last)",
      "\u001b[1;32m<ipython-input-23-92fdb0346fa0>\u001b[0m in \u001b[0;36m<module>\u001b[1;34m()\u001b[0m\n\u001b[0;32m      1\u001b[0m \u001b[0mlotto_numbers\u001b[0m \u001b[1;33m=\u001b[0m\u001b[1;33m[\u001b[0m\u001b[1;33m]\u001b[0m\u001b[1;33m\u001b[0m\u001b[0m\n\u001b[0;32m      2\u001b[0m \u001b[1;32mfor\u001b[0m \u001b[0mi\u001b[0m \u001b[1;32min\u001b[0m \u001b[0mrange\u001b[0m\u001b[1;33m(\u001b[0m\u001b[1;36m6\u001b[0m\u001b[1;33m)\u001b[0m\u001b[1;33m:\u001b[0m\u001b[1;33m\u001b[0m\u001b[0m\n\u001b[1;32m----> 3\u001b[1;33m     \u001b[0mlotto_numbers\u001b[0m\u001b[1;33m.\u001b[0m\u001b[0mappend\u001b[0m\u001b[1;33m(\u001b[0m\u001b[0mrandim\u001b[0m\u001b[1;33m.\u001b[0m\u001b[0mrandint\u001b[0m\u001b[1;33m(\u001b[0m\u001b[1;36m1\u001b[0m\u001b[1;33m,\u001b[0m\u001b[1;36m45\u001b[0m\u001b[1;33m)\u001b[0m\u001b[1;33m)\u001b[0m\u001b[1;33m\u001b[0m\u001b[0m\n\u001b[0m\u001b[0;32m      4\u001b[0m \u001b[1;33m\u001b[0m\u001b[0m\n\u001b[0;32m      5\u001b[0m \u001b[0mlotto_numbers\u001b[0m\u001b[1;33m\u001b[0m\u001b[0m\n",
      "\u001b[1;31mNameError\u001b[0m: name 'randim' is not defined"
     ]
    }
   ],
   "source": [
    "lotto_numbers =[]\n",
    "for i in range(6):\n",
    "    lotto_numbers.append(randim.randint(1,45))\n",
    "    \n",
    "lotto_numbers"
   ]
  },
  {
   "cell_type": "code",
   "execution_count": 24,
   "metadata": {},
   "outputs": [
    {
     "data": {
      "text/plain": [
       "[41, 29, 24, 36, 6, 9]"
      ]
     },
     "execution_count": 24,
     "metadata": {},
     "output_type": "execute_result"
    }
   ],
   "source": [
    "lotto_numbers =[]\n",
    "for i in range(6):\n",
    "    lotto_numbers.append(random.randint(1,45))\n",
    "    \n",
    "lotto_numbers"
   ]
  },
  {
   "cell_type": "code",
   "execution_count": 25,
   "metadata": {},
   "outputs": [
    {
     "ename": "NameError",
     "evalue": "name 'lotto_number' is not defined",
     "output_type": "error",
     "traceback": [
      "\u001b[1;31m---------------------------------------------------------------------------\u001b[0m",
      "\u001b[1;31mNameError\u001b[0m                                 Traceback (most recent call last)",
      "\u001b[1;32m<ipython-input-25-4a7bb2d2d012>\u001b[0m in \u001b[0;36m<module>\u001b[1;34m()\u001b[0m\n\u001b[0;32m      4\u001b[0m     \u001b[1;32mif\u001b[0m \u001b[0mvalue\u001b[0m \u001b[1;32mnot\u001b[0m \u001b[1;32min\u001b[0m \u001b[0mlotto_numbers\u001b[0m\u001b[1;33m:\u001b[0m\u001b[1;33m\u001b[0m\u001b[0m\n\u001b[0;32m      5\u001b[0m         \u001b[0mlotto_numbers\u001b[0m\u001b[1;33m.\u001b[0m\u001b[0mappend\u001b[0m\u001b[1;33m(\u001b[0m\u001b[0mvalue\u001b[0m\u001b[1;33m)\u001b[0m\u001b[1;33m\u001b[0m\u001b[0m\n\u001b[1;32m----> 6\u001b[1;33m     \u001b[1;32mif\u001b[0m \u001b[0mlen\u001b[0m\u001b[1;33m(\u001b[0m\u001b[0mlotto_number\u001b[0m\u001b[1;33m)\u001b[0m \u001b[1;33m==\u001b[0m \u001b[1;36m6\u001b[0m\u001b[1;33m:\u001b[0m\u001b[1;33m\u001b[0m\u001b[0m\n\u001b[0m\u001b[0;32m      7\u001b[0m         \u001b[1;32mbreak\u001b[0m\u001b[1;33m\u001b[0m\u001b[0m\n\u001b[0;32m      8\u001b[0m \u001b[0mlotto_numbers\u001b[0m\u001b[1;33m\u001b[0m\u001b[0m\n",
      "\u001b[1;31mNameError\u001b[0m: name 'lotto_number' is not defined"
     ]
    }
   ],
   "source": [
    "lotto_numbers =[]\n",
    "for i in range(6):\n",
    "    value = random.randint(1,45)\n",
    "    if value not in lotto_numbers:\n",
    "        lotto_numbers.append(value)\n",
    "    if len(lotto_number) == 6:\n",
    "        break\n",
    "lotto_numbers"
   ]
  },
  {
   "cell_type": "code",
   "execution_count": 26,
   "metadata": {},
   "outputs": [
    {
     "data": {
      "text/plain": [
       "[13, 18, 11, 7, 42, 29]"
      ]
     },
     "execution_count": 26,
     "metadata": {},
     "output_type": "execute_result"
    }
   ],
   "source": [
    "lotto_numbers =[]\n",
    "while True:\n",
    "    value = random.randint(1,45)\n",
    "    if value not in lotto_numbers:\n",
    "        lotto_numbers.append(value)\n",
    "    if len(lotto_numbers) == 6:\n",
    "        break\n",
    "lotto_numbers"
   ]
  },
  {
   "cell_type": "code",
   "execution_count": 27,
   "metadata": {},
   "outputs": [
    {
     "data": {
      "text/plain": [
       "[11, 36, 38, 5, 35, 15]"
      ]
     },
     "execution_count": 27,
     "metadata": {},
     "output_type": "execute_result"
    }
   ],
   "source": [
    "lotto_numbers =[]\n",
    "while True:\n",
    "    value = random.randint(1,45)\n",
    "    if value not in lotto_numbers:\n",
    "        lotto_numbers.append(value)\n",
    "    if len(lotto_numbers) == 6:\n",
    "        break\n",
    "lotto_numbers"
   ]
  },
  {
   "cell_type": "code",
   "execution_count": 28,
   "metadata": {},
   "outputs": [
    {
     "data": {
      "text/plain": [
       "[10, 3, 5, 7, 5, 9]"
      ]
     },
     "execution_count": 28,
     "metadata": {},
     "output_type": "execute_result"
    }
   ],
   "source": [
    "numbers = [1,3,5,7,5,]\n",
    "numbers[0]=10\n",
    "numbers.append(9)\n",
    "numbers"
   ]
  },
  {
   "cell_type": "code",
   "execution_count": 29,
   "metadata": {},
   "outputs": [
    {
     "data": {
      "text/plain": [
       "7"
      ]
     },
     "execution_count": 29,
     "metadata": {},
     "output_type": "execute_result"
    }
   ],
   "source": [
    "numbers.pop(3)"
   ]
  },
  {
   "cell_type": "code",
   "execution_count": 30,
   "metadata": {},
   "outputs": [
    {
     "data": {
      "text/plain": [
       "[10, 3, 5, 5, 9]"
      ]
     },
     "execution_count": 30,
     "metadata": {},
     "output_type": "execute_result"
    }
   ],
   "source": [
    "numbers"
   ]
  },
  {
   "cell_type": "code",
   "execution_count": 31,
   "metadata": {},
   "outputs": [],
   "source": [
    "numbers.remove(5)"
   ]
  },
  {
   "cell_type": "code",
   "execution_count": 32,
   "metadata": {},
   "outputs": [
    {
     "data": {
      "text/plain": [
       "[10, 3, 5, 9]"
      ]
     },
     "execution_count": 32,
     "metadata": {},
     "output_type": "execute_result"
    }
   ],
   "source": [
    "numbers"
   ]
  },
  {
   "cell_type": "code",
   "execution_count": 33,
   "metadata": {},
   "outputs": [
    {
     "ename": "NameError",
     "evalue": "name 'numbes' is not defined",
     "output_type": "error",
     "traceback": [
      "\u001b[1;31m---------------------------------------------------------------------------\u001b[0m",
      "\u001b[1;31mNameError\u001b[0m                                 Traceback (most recent call last)",
      "\u001b[1;32m<ipython-input-33-f67581ca1141>\u001b[0m in \u001b[0;36m<module>\u001b[1;34m()\u001b[0m\n\u001b[1;32m----> 1\u001b[1;33m \u001b[0mnumbes\u001b[0m\u001b[1;33m.\u001b[0m\u001b[0mremove\u001b[0m\u001b[1;33m(\u001b[0m\u001b[1;36m5\u001b[0m\u001b[1;33m)\u001b[0m\u001b[1;33m\u001b[0m\u001b[0m\n\u001b[0m",
      "\u001b[1;31mNameError\u001b[0m: name 'numbes' is not defined"
     ]
    }
   ],
   "source": [
    "numbes.remove(5)"
   ]
  },
  {
   "cell_type": "code",
   "execution_count": 34,
   "metadata": {},
   "outputs": [],
   "source": [
    "numbers.remove(5)"
   ]
  },
  {
   "cell_type": "code",
   "execution_count": 35,
   "metadata": {},
   "outputs": [
    {
     "data": {
      "text/plain": [
       "[10, 3, 9]"
      ]
     },
     "execution_count": 35,
     "metadata": {},
     "output_type": "execute_result"
    }
   ],
   "source": [
    "numbers"
   ]
  },
  {
   "cell_type": "markdown",
   "metadata": {},
   "source": [
    "### Slice"
   ]
  },
  {
   "cell_type": "code",
   "execution_count": 36,
   "metadata": {},
   "outputs": [],
   "source": [
    "message = \"hello world\""
   ]
  },
  {
   "cell_type": "code",
   "execution_count": 37,
   "metadata": {},
   "outputs": [
    {
     "data": {
      "text/plain": [
       "'h'"
      ]
     },
     "execution_count": 37,
     "metadata": {},
     "output_type": "execute_result"
    }
   ],
   "source": [
    "message[0]"
   ]
  },
  {
   "cell_type": "code",
   "execution_count": 38,
   "metadata": {},
   "outputs": [
    {
     "data": {
      "text/plain": [
       "'ello world'"
      ]
     },
     "execution_count": 38,
     "metadata": {},
     "output_type": "execute_result"
    }
   ],
   "source": [
    "message[1:]"
   ]
  },
  {
   "cell_type": "code",
   "execution_count": 39,
   "metadata": {},
   "outputs": [
    {
     "data": {
      "text/plain": [
       "'ello worl'"
      ]
     },
     "execution_count": 39,
     "metadata": {},
     "output_type": "execute_result"
    }
   ],
   "source": [
    "message[1:-1]"
   ]
  },
  {
   "cell_type": "code",
   "execution_count": 40,
   "metadata": {},
   "outputs": [
    {
     "data": {
      "text/plain": [
       "'el ol'"
      ]
     },
     "execution_count": 40,
     "metadata": {},
     "output_type": "execute_result"
    }
   ],
   "source": [
    "message[1:-1:2]"
   ]
  },
  {
   "cell_type": "code",
   "execution_count": 41,
   "metadata": {},
   "outputs": [
    {
     "data": {
      "text/plain": [
       "''"
      ]
     },
     "execution_count": 41,
     "metadata": {},
     "output_type": "execute_result"
    }
   ],
   "source": [
    "message[-1:1]"
   ]
  },
  {
   "cell_type": "code",
   "execution_count": 42,
   "metadata": {},
   "outputs": [
    {
     "data": {
      "text/plain": [
       "''"
      ]
     },
     "execution_count": 42,
     "metadata": {},
     "output_type": "execute_result"
    }
   ],
   "source": [
    "message[-1:-2]"
   ]
  },
  {
   "cell_type": "code",
   "execution_count": 43,
   "metadata": {},
   "outputs": [
    {
     "data": {
      "text/plain": [
       "'dlrow oll'"
      ]
     },
     "execution_count": 43,
     "metadata": {},
     "output_type": "execute_result"
    }
   ],
   "source": [
    "message[-1:1:-1]"
   ]
  },
  {
   "cell_type": "code",
   "execution_count": 44,
   "metadata": {},
   "outputs": [
    {
     "ename": "SyntaxError",
     "evalue": "invalid syntax (<ipython-input-44-7ed6905508d9>, line 1)",
     "output_type": "error",
     "traceback": [
      "\u001b[1;36m  File \u001b[1;32m\"<ipython-input-44-7ed6905508d9>\"\u001b[1;36m, line \u001b[1;32m1\u001b[0m\n\u001b[1;33m    message{::-1}\u001b[0m\n\u001b[1;37m           ^\u001b[0m\n\u001b[1;31mSyntaxError\u001b[0m\u001b[1;31m:\u001b[0m invalid syntax\n"
     ]
    }
   ],
   "source": [
    "message{::-1}"
   ]
  },
  {
   "cell_type": "code",
   "execution_count": 45,
   "metadata": {},
   "outputs": [
    {
     "data": {
      "text/plain": [
       "'dlrow olleh'"
      ]
     },
     "execution_count": 45,
     "metadata": {},
     "output_type": "execute_result"
    }
   ],
   "source": [
    "message[::-1]"
   ]
  },
  {
   "cell_type": "code",
   "execution_count": 46,
   "metadata": {},
   "outputs": [
    {
     "data": {
      "text/plain": [
       "'helloworld'"
      ]
     },
     "execution_count": 46,
     "metadata": {},
     "output_type": "execute_result"
    }
   ],
   "source": [
    "\"hello\" + \"world\""
   ]
  },
  {
   "cell_type": "code",
   "execution_count": 47,
   "metadata": {},
   "outputs": [
    {
     "data": {
      "text/plain": [
       "[1, 2, 3, 4, 5, 6]"
      ]
     },
     "execution_count": 47,
     "metadata": {},
     "output_type": "execute_result"
    }
   ],
   "source": [
    "[1,2,3,]+[4,5,6]"
   ]
  },
  {
   "cell_type": "markdown",
   "metadata": {},
   "source": [
    "### List comprehension"
   ]
  },
  {
   "cell_type": "code",
   "execution_count": 59,
   "metadata": {},
   "outputs": [],
   "source": [
    "numbers1 = [1,3,5,7]\n",
    "numbers2 = [2,4,6,8]\n",
    "numbers3 =[13,23,33]"
   ]
  },
  {
   "cell_type": "code",
   "execution_count": 49,
   "metadata": {},
   "outputs": [
    {
     "ename": "NameError",
     "evalue": "name 'number1' is not defined",
     "output_type": "error",
     "traceback": [
      "\u001b[1;31m---------------------------------------------------------------------------\u001b[0m",
      "\u001b[1;31mNameError\u001b[0m                                 Traceback (most recent call last)",
      "\u001b[1;32m<ipython-input-49-34ad90b17cad>\u001b[0m in \u001b[0;36m<module>\u001b[1;34m()\u001b[0m\n\u001b[0;32m      1\u001b[0m \u001b[0mresult\u001b[0m \u001b[1;33m=\u001b[0m \u001b[1;33m[\u001b[0m\u001b[1;33m]\u001b[0m\u001b[1;33m\u001b[0m\u001b[0m\n\u001b[0;32m      2\u001b[0m \u001b[1;32mfor\u001b[0m \u001b[0mi\u001b[0m \u001b[1;32min\u001b[0m \u001b[0mrange\u001b[0m\u001b[1;33m(\u001b[0m\u001b[0mlen\u001b[0m\u001b[1;33m(\u001b[0m\u001b[0mnumbers1\u001b[0m\u001b[1;33m)\u001b[0m\u001b[1;33m)\u001b[0m\u001b[1;33m:\u001b[0m\u001b[1;33m\u001b[0m\u001b[0m\n\u001b[1;32m----> 3\u001b[1;33m     \u001b[0mresult\u001b[0m\u001b[1;33m.\u001b[0m\u001b[0mappend\u001b[0m\u001b[1;33m(\u001b[0m\u001b[0mnumber1\u001b[0m\u001b[1;33m[\u001b[0m\u001b[0mi\u001b[0m\u001b[1;33m]\u001b[0m \u001b[1;33m+\u001b[0m \u001b[0mnumbers2\u001b[0m\u001b[1;33m[\u001b[0m\u001b[0mi\u001b[0m\u001b[1;33m]\u001b[0m\u001b[1;33m)\u001b[0m\u001b[1;33m\u001b[0m\u001b[0m\n\u001b[0m\u001b[0;32m      4\u001b[0m \u001b[0mresult\u001b[0m\u001b[1;33m\u001b[0m\u001b[0m\n",
      "\u001b[1;31mNameError\u001b[0m: name 'number1' is not defined"
     ]
    }
   ],
   "source": [
    "result = []\n",
    "for i in range(len(numbers1)):\n",
    "    result.append(number1[i] + numbers2[i])\n",
    "result"
   ]
  },
  {
   "cell_type": "code",
   "execution_count": 58,
   "metadata": {},
   "outputs": [
    {
     "data": {
      "text/plain": [
       "[3, 7, 11, 15]"
      ]
     },
     "execution_count": 58,
     "metadata": {},
     "output_type": "execute_result"
    }
   ],
   "source": [
    "result = []\n",
    "for i in range(len(numbers1)):\n",
    "    result.append(numbers1[i] + numbers2[i])\n",
    "result"
   ]
  },
  {
   "cell_type": "code",
   "execution_count": 60,
   "metadata": {},
   "outputs": [
    {
     "data": {
      "text/plain": [
       "[16, 30, 44]"
      ]
     },
     "execution_count": 60,
     "metadata": {},
     "output_type": "execute_result"
    }
   ],
   "source": [
    "result = []\n",
    "for (i,j,k) in zip(numbers1,numbers2,numbers3):\n",
    "    result.append(i+j+k)\n",
    "result"
   ]
  },
  {
   "cell_type": "markdown",
   "metadata": {},
   "source": [
    "### tuple"
   ]
  },
  {
   "cell_type": "code",
   "execution_count": 61,
   "metadata": {},
   "outputs": [
    {
     "data": {
      "text/plain": [
       "(1, 2, 3, 4, 5, 6, 7, 8, 9, 10)"
      ]
     },
     "execution_count": 61,
     "metadata": {},
     "output_type": "execute_result"
    }
   ],
   "source": [
    "(1,2,3,4,5,6,7,8,9,10) "
   ]
  },
  {
   "cell_type": "code",
   "execution_count": 62,
   "metadata": {},
   "outputs": [
    {
     "data": {
      "text/plain": [
       "(1,)"
      ]
     },
     "execution_count": 62,
     "metadata": {},
     "output_type": "execute_result"
    }
   ],
   "source": [
    "(1,)"
   ]
  },
  {
   "cell_type": "code",
   "execution_count": 63,
   "metadata": {},
   "outputs": [
    {
     "data": {
      "text/plain": [
       "1"
      ]
     },
     "execution_count": 63,
     "metadata": {},
     "output_type": "execute_result"
    }
   ],
   "source": [
    "(1)"
   ]
  },
  {
   "cell_type": "code",
   "execution_count": 64,
   "metadata": {},
   "outputs": [
    {
     "name": "stdout",
     "output_type": "stream",
     "text": [
      "1\n",
      "2\n",
      "3\n",
      "4\n",
      "5\n",
      "6\n",
      "7\n",
      "8\n",
      "9\n",
      "10\n"
     ]
    }
   ],
   "source": [
    "for i in (1,2,3,4,5,6,7,8,9,10):\n",
    "    print(i)"
   ]
  },
  {
   "cell_type": "code",
   "execution_count": 65,
   "metadata": {},
   "outputs": [
    {
     "name": "stdout",
     "output_type": "stream",
     "text": [
      "1\n"
     ]
    }
   ],
   "source": [
    "for i in (1,):\n",
    "    print(i)"
   ]
  },
  {
   "cell_type": "code",
   "execution_count": 68,
   "metadata": {},
   "outputs": [],
   "source": [
    "import os\n",
    "import requests\n",
    "from bs4 import BeautifulSoup\n",
    "\n",
    "comic_url = 'https://comic.naver.com/webtoon/detail.nhn?titleId=662774&no=142&weekday=wed'"
   ]
  },
  {
   "cell_type": "code",
   "execution_count": 69,
   "metadata": {},
   "outputs": [
    {
     "data": {
      "text/plain": [
       "['https://image-comic.pstatic.net/webtoon/662774/142/20180707225814_4b71bd0a142a9bb0cbc9c1bf5f2742a8_IMAG01_1.jpg',\n",
       " 'https://image-comic.pstatic.net/webtoon/662774/142/20180707225814_4b71bd0a142a9bb0cbc9c1bf5f2742a8_IMAG01_2.jpg',\n",
       " 'https://image-comic.pstatic.net/webtoon/662774/142/20180707225814_4b71bd0a142a9bb0cbc9c1bf5f2742a8_IMAG01_3.jpg',\n",
       " 'https://image-comic.pstatic.net/webtoon/662774/142/20180707225814_4b71bd0a142a9bb0cbc9c1bf5f2742a8_IMAG01_4.jpg',\n",
       " 'https://image-comic.pstatic.net/webtoon/662774/142/20180707225814_4b71bd0a142a9bb0cbc9c1bf5f2742a8_IMAG01_5.jpg',\n",
       " 'https://image-comic.pstatic.net/webtoon/662774/142/20180707225814_4b71bd0a142a9bb0cbc9c1bf5f2742a8_IMAG01_6.jpg',\n",
       " 'https://image-comic.pstatic.net/webtoon/662774/142/20180707225814_4b71bd0a142a9bb0cbc9c1bf5f2742a8_IMAG01_7.jpg',\n",
       " 'https://image-comic.pstatic.net/webtoon/662774/142/20180707225814_4b71bd0a142a9bb0cbc9c1bf5f2742a8_IMAG01_8.jpg',\n",
       " 'https://image-comic.pstatic.net/webtoon/662774/142/20180707225814_4b71bd0a142a9bb0cbc9c1bf5f2742a8_IMAG01_9.jpg',\n",
       " 'https://image-comic.pstatic.net/webtoon/662774/142/20180707225814_4b71bd0a142a9bb0cbc9c1bf5f2742a8_IMAG01_10.jpg',\n",
       " 'https://image-comic.pstatic.net/webtoon/662774/142/20180707225814_4b71bd0a142a9bb0cbc9c1bf5f2742a8_IMAG01_11.jpg',\n",
       " 'https://image-comic.pstatic.net/webtoon/662774/142/20180707225814_4b71bd0a142a9bb0cbc9c1bf5f2742a8_IMAG01_12.jpg',\n",
       " 'https://image-comic.pstatic.net/webtoon/662774/142/20180707225814_4b71bd0a142a9bb0cbc9c1bf5f2742a8_IMAG01_13.jpg',\n",
       " 'https://image-comic.pstatic.net/webtoon/662774/142/20180707225814_4b71bd0a142a9bb0cbc9c1bf5f2742a8_IMAG01_14.jpg',\n",
       " 'https://image-comic.pstatic.net/webtoon/662774/142/20180707225814_4b71bd0a142a9bb0cbc9c1bf5f2742a8_IMAG01_15.jpg',\n",
       " 'https://image-comic.pstatic.net/webtoon/662774/142/20180707225814_4b71bd0a142a9bb0cbc9c1bf5f2742a8_IMAG01_16.jpg',\n",
       " 'https://image-comic.pstatic.net/webtoon/662774/142/20180707225814_4b71bd0a142a9bb0cbc9c1bf5f2742a8_IMAG01_17.jpg',\n",
       " 'https://image-comic.pstatic.net/webtoon/662774/142/20180707225814_4b71bd0a142a9bb0cbc9c1bf5f2742a8_IMAG01_18.jpg',\n",
       " 'https://image-comic.pstatic.net/webtoon/662774/142/20180707225814_4b71bd0a142a9bb0cbc9c1bf5f2742a8_IMAG01_19.jpg',\n",
       " 'https://image-comic.pstatic.net/webtoon/662774/142/20180707225814_4b71bd0a142a9bb0cbc9c1bf5f2742a8_IMAG01_20.jpg',\n",
       " 'https://image-comic.pstatic.net/webtoon/662774/142/20180707225814_4b71bd0a142a9bb0cbc9c1bf5f2742a8_IMAG01_21.jpg',\n",
       " 'https://image-comic.pstatic.net/webtoon/662774/142/20180707225814_4b71bd0a142a9bb0cbc9c1bf5f2742a8_IMAG01_22.jpg',\n",
       " 'https://image-comic.pstatic.net/webtoon/662774/142/20180707225814_4b71bd0a142a9bb0cbc9c1bf5f2742a8_IMAG01_23.jpg',\n",
       " 'https://image-comic.pstatic.net/webtoon/662774/142/20180707225814_4b71bd0a142a9bb0cbc9c1bf5f2742a8_IMAG01_24.jpg',\n",
       " 'https://image-comic.pstatic.net/webtoon/662774/142/20180707225814_4b71bd0a142a9bb0cbc9c1bf5f2742a8_IMAG01_25.jpg',\n",
       " 'https://image-comic.pstatic.net/webtoon/662774/142/20180707225814_4b71bd0a142a9bb0cbc9c1bf5f2742a8_IMAG01_26.jpg',\n",
       " 'https://image-comic.pstatic.net/webtoon/662774/142/20180707225814_4b71bd0a142a9bb0cbc9c1bf5f2742a8_IMAG01_27.jpg',\n",
       " 'https://image-comic.pstatic.net/webtoon/662774/142/20180707225814_4b71bd0a142a9bb0cbc9c1bf5f2742a8_IMAG01_28.jpg',\n",
       " 'https://image-comic.pstatic.net/webtoon/662774/142/20180707225814_4b71bd0a142a9bb0cbc9c1bf5f2742a8_IMAG01_29.jpg',\n",
       " 'https://image-comic.pstatic.net/webtoon/662774/142/20180707225814_4b71bd0a142a9bb0cbc9c1bf5f2742a8_IMAG01_30.jpg',\n",
       " 'https://image-comic.pstatic.net/webtoon/662774/142/20180707225814_4b71bd0a142a9bb0cbc9c1bf5f2742a8_IMAG01_31.jpg',\n",
       " 'https://image-comic.pstatic.net/webtoon/662774/142/20180707225814_4b71bd0a142a9bb0cbc9c1bf5f2742a8_IMAG01_32.jpg',\n",
       " 'https://image-comic.pstatic.net/webtoon/662774/142/20180707225814_4b71bd0a142a9bb0cbc9c1bf5f2742a8_IMAG01_33.jpg',\n",
       " 'https://image-comic.pstatic.net/webtoon/662774/142/20180707225814_4b71bd0a142a9bb0cbc9c1bf5f2742a8_IMAG01_34.jpg',\n",
       " 'https://image-comic.pstatic.net/webtoon/662774/142/20180707225814_4b71bd0a142a9bb0cbc9c1bf5f2742a8_IMAG01_35.jpg',\n",
       " 'https://image-comic.pstatic.net/webtoon/662774/142/20180707225814_4b71bd0a142a9bb0cbc9c1bf5f2742a8_IMAG01_36.jpg',\n",
       " 'https://image-comic.pstatic.net/webtoon/662774/142/20180707225814_4b71bd0a142a9bb0cbc9c1bf5f2742a8_IMAG01_37.jpg',\n",
       " 'https://image-comic.pstatic.net/webtoon/662774/142/20180707225814_4b71bd0a142a9bb0cbc9c1bf5f2742a8_IMAG01_38.jpg',\n",
       " 'https://image-comic.pstatic.net/webtoon/662774/142/20180707225814_4b71bd0a142a9bb0cbc9c1bf5f2742a8_IMAG01_39.jpg',\n",
       " 'https://image-comic.pstatic.net/webtoon/662774/142/20180707225814_4b71bd0a142a9bb0cbc9c1bf5f2742a8_IMAG01_40.jpg',\n",
       " 'https://image-comic.pstatic.net/webtoon/662774/142/20180707225814_4b71bd0a142a9bb0cbc9c1bf5f2742a8_IMAG01_41.jpg',\n",
       " 'https://image-comic.pstatic.net/webtoon/662774/142/20180707225814_4b71bd0a142a9bb0cbc9c1bf5f2742a8_IMAG01_42.jpg',\n",
       " 'https://image-comic.pstatic.net/webtoon/662774/142/20180707225814_4b71bd0a142a9bb0cbc9c1bf5f2742a8_IMAG01_43.jpg',\n",
       " 'https://image-comic.pstatic.net/webtoon/662774/142/20180707225814_4b71bd0a142a9bb0cbc9c1bf5f2742a8_IMAG01_44.jpg',\n",
       " 'https://image-comic.pstatic.net/webtoon/662774/142/20180707225814_4b71bd0a142a9bb0cbc9c1bf5f2742a8_IMAG01_45.jpg',\n",
       " 'https://image-comic.pstatic.net/webtoon/662774/142/20180707225814_4b71bd0a142a9bb0cbc9c1bf5f2742a8_IMAG01_46.jpg',\n",
       " 'https://image-comic.pstatic.net/webtoon/662774/142/20180707225814_4b71bd0a142a9bb0cbc9c1bf5f2742a8_IMAG01_47.jpg',\n",
       " 'https://image-comic.pstatic.net/webtoon/662774/142/20180707225814_4b71bd0a142a9bb0cbc9c1bf5f2742a8_IMAG01_48.jpg',\n",
       " 'https://image-comic.pstatic.net/webtoon/662774/142/20180707225814_4b71bd0a142a9bb0cbc9c1bf5f2742a8_IMAG01_49.jpg',\n",
       " 'https://image-comic.pstatic.net/webtoon/662774/142/20180707225814_4b71bd0a142a9bb0cbc9c1bf5f2742a8_IMAG01_50.jpg',\n",
       " 'https://image-comic.pstatic.net/webtoon/662774/142/20180707225814_4b71bd0a142a9bb0cbc9c1bf5f2742a8_IMAG01_51.jpg',\n",
       " 'https://image-comic.pstatic.net/webtoon/662774/142/20180707225814_4b71bd0a142a9bb0cbc9c1bf5f2742a8_IMAG01_52.jpg',\n",
       " 'https://image-comic.pstatic.net/webtoon/662774/142/20180707225814_4b71bd0a142a9bb0cbc9c1bf5f2742a8_IMAG01_53.jpg',\n",
       " 'https://image-comic.pstatic.net/webtoon/662774/142/20180707225814_4b71bd0a142a9bb0cbc9c1bf5f2742a8_IMAG01_54.jpg',\n",
       " 'https://image-comic.pstatic.net/webtoon/662774/142/20180707225814_4b71bd0a142a9bb0cbc9c1bf5f2742a8_IMAG01_55.jpg',\n",
       " 'https://image-comic.pstatic.net/webtoon/662774/142/20180707225814_4b71bd0a142a9bb0cbc9c1bf5f2742a8_IMAG01_56.jpg',\n",
       " 'https://image-comic.pstatic.net/webtoon/662774/142/20180707225814_4b71bd0a142a9bb0cbc9c1bf5f2742a8_IMAG01_57.jpg',\n",
       " 'https://image-comic.pstatic.net/webtoon/662774/142/20180707225814_4b71bd0a142a9bb0cbc9c1bf5f2742a8_IMAG01_58.jpg',\n",
       " 'https://image-comic.pstatic.net/webtoon/662774/142/20180707225814_4b71bd0a142a9bb0cbc9c1bf5f2742a8_IMAG01_59.jpg',\n",
       " 'https://image-comic.pstatic.net/webtoon/662774/142/20180707225814_4b71bd0a142a9bb0cbc9c1bf5f2742a8_IMAG01_60.jpg',\n",
       " 'https://image-comic.pstatic.net/webtoon/662774/142/20180707225814_4b71bd0a142a9bb0cbc9c1bf5f2742a8_IMAG01_61.jpg',\n",
       " 'https://image-comic.pstatic.net/webtoon/662774/142/20180707225814_4b71bd0a142a9bb0cbc9c1bf5f2742a8_IMAG01_62.jpg',\n",
       " 'https://image-comic.pstatic.net/webtoon/662774/142/20180707225814_4b71bd0a142a9bb0cbc9c1bf5f2742a8_IMAG01_63.jpg',\n",
       " 'https://image-comic.pstatic.net/webtoon/662774/142/20180707225814_4b71bd0a142a9bb0cbc9c1bf5f2742a8_IMAG01_64.jpg',\n",
       " 'https://image-comic.pstatic.net/webtoon/662774/142/20180707225814_4b71bd0a142a9bb0cbc9c1bf5f2742a8_IMAG01_65.jpg',\n",
       " 'https://image-comic.pstatic.net/webtoon/662774/142/20180707225814_4b71bd0a142a9bb0cbc9c1bf5f2742a8_IMAG01_66.jpg',\n",
       " 'https://image-comic.pstatic.net/webtoon/662774/142/20180707225814_4b71bd0a142a9bb0cbc9c1bf5f2742a8_IMAG01_67.jpg',\n",
       " 'https://image-comic.pstatic.net/webtoon/662774/142/20180707225814_4b71bd0a142a9bb0cbc9c1bf5f2742a8_IMAG01_68.jpg',\n",
       " 'https://image-comic.pstatic.net/webtoon/662774/142/20180707225814_4b71bd0a142a9bb0cbc9c1bf5f2742a8_IMAG01_69.jpg',\n",
       " 'https://image-comic.pstatic.net/webtoon/662774/142/20180707225814_4b71bd0a142a9bb0cbc9c1bf5f2742a8_IMAG01_70.jpg',\n",
       " 'https://image-comic.pstatic.net/webtoon/662774/142/20180707225814_4b71bd0a142a9bb0cbc9c1bf5f2742a8_IMAG01_71.jpg',\n",
       " 'https://image-comic.pstatic.net/webtoon/662774/142/20180707225814_4b71bd0a142a9bb0cbc9c1bf5f2742a8_IMAG01_72.jpg',\n",
       " 'https://image-comic.pstatic.net/webtoon/662774/142/20180707225814_4b71bd0a142a9bb0cbc9c1bf5f2742a8_IMAG01_73.jpg',\n",
       " 'https://image-comic.pstatic.net/webtoon/662774/142/20180707225814_4b71bd0a142a9bb0cbc9c1bf5f2742a8_IMAG01_74.jpg',\n",
       " 'https://image-comic.pstatic.net/webtoon/662774/142/20180707225814_4b71bd0a142a9bb0cbc9c1bf5f2742a8_IMAG01_75.jpg',\n",
       " 'https://image-comic.pstatic.net/webtoon/662774/142/20180707225814_4b71bd0a142a9bb0cbc9c1bf5f2742a8_IMAG01_76.jpg',\n",
       " 'https://ssl.pstatic.net/static/comic/images/txt_ads.png',\n",
       " 'https://ssl.pstatic.net/static/comic/images/txt_ads.png']"
      ]
     },
     "execution_count": 69,
     "metadata": {},
     "output_type": "execute_result"
    }
   ],
   "source": [
    "res = requests.get(comic_url) \n",
    "html = res.text\n",
    "soup = BeautifulSoup(html, 'html.parser')\n",
    "\n",
    "image_url_list = []\n",
    "\n",
    "for tag in soup.select('#comic_view_area img'):\n",
    "    try:\n",
    "        image_url = tag['src']\n",
    "        if image_url:\n",
    "            image_url_list.append(image_url)\n",
    "    except KeyError:\n",
    "        pass\n",
    "        \n",
    "image_url_list"
   ]
  },
  {
   "cell_type": "code",
   "execution_count": 70,
   "metadata": {},
   "outputs": [
    {
     "name": "stdout",
     "output_type": "stream",
     "text": [
      "https://image-comic.pstatic.net/webtoon/662774/142/20180707225814_4b71bd0a142a9bb0cbc9c1bf5f2742a8_IMAG01_1.jpg\n",
      "https://image-comic.pstatic.net/webtoon/662774/142/20180707225814_4b71bd0a142a9bb0cbc9c1bf5f2742a8_IMAG01_2.jpg\n",
      "https://image-comic.pstatic.net/webtoon/662774/142/20180707225814_4b71bd0a142a9bb0cbc9c1bf5f2742a8_IMAG01_3.jpg\n",
      "https://image-comic.pstatic.net/webtoon/662774/142/20180707225814_4b71bd0a142a9bb0cbc9c1bf5f2742a8_IMAG01_4.jpg\n",
      "https://image-comic.pstatic.net/webtoon/662774/142/20180707225814_4b71bd0a142a9bb0cbc9c1bf5f2742a8_IMAG01_5.jpg\n",
      "https://image-comic.pstatic.net/webtoon/662774/142/20180707225814_4b71bd0a142a9bb0cbc9c1bf5f2742a8_IMAG01_6.jpg\n",
      "https://image-comic.pstatic.net/webtoon/662774/142/20180707225814_4b71bd0a142a9bb0cbc9c1bf5f2742a8_IMAG01_7.jpg\n",
      "https://image-comic.pstatic.net/webtoon/662774/142/20180707225814_4b71bd0a142a9bb0cbc9c1bf5f2742a8_IMAG01_8.jpg\n",
      "https://image-comic.pstatic.net/webtoon/662774/142/20180707225814_4b71bd0a142a9bb0cbc9c1bf5f2742a8_IMAG01_9.jpg\n",
      "https://image-comic.pstatic.net/webtoon/662774/142/20180707225814_4b71bd0a142a9bb0cbc9c1bf5f2742a8_IMAG01_10.jpg\n",
      "https://image-comic.pstatic.net/webtoon/662774/142/20180707225814_4b71bd0a142a9bb0cbc9c1bf5f2742a8_IMAG01_11.jpg\n",
      "https://image-comic.pstatic.net/webtoon/662774/142/20180707225814_4b71bd0a142a9bb0cbc9c1bf5f2742a8_IMAG01_12.jpg\n",
      "https://image-comic.pstatic.net/webtoon/662774/142/20180707225814_4b71bd0a142a9bb0cbc9c1bf5f2742a8_IMAG01_13.jpg\n",
      "https://image-comic.pstatic.net/webtoon/662774/142/20180707225814_4b71bd0a142a9bb0cbc9c1bf5f2742a8_IMAG01_14.jpg\n",
      "https://image-comic.pstatic.net/webtoon/662774/142/20180707225814_4b71bd0a142a9bb0cbc9c1bf5f2742a8_IMAG01_15.jpg\n",
      "https://image-comic.pstatic.net/webtoon/662774/142/20180707225814_4b71bd0a142a9bb0cbc9c1bf5f2742a8_IMAG01_16.jpg\n",
      "https://image-comic.pstatic.net/webtoon/662774/142/20180707225814_4b71bd0a142a9bb0cbc9c1bf5f2742a8_IMAG01_17.jpg\n",
      "https://image-comic.pstatic.net/webtoon/662774/142/20180707225814_4b71bd0a142a9bb0cbc9c1bf5f2742a8_IMAG01_18.jpg\n",
      "https://image-comic.pstatic.net/webtoon/662774/142/20180707225814_4b71bd0a142a9bb0cbc9c1bf5f2742a8_IMAG01_19.jpg\n",
      "https://image-comic.pstatic.net/webtoon/662774/142/20180707225814_4b71bd0a142a9bb0cbc9c1bf5f2742a8_IMAG01_20.jpg\n",
      "https://image-comic.pstatic.net/webtoon/662774/142/20180707225814_4b71bd0a142a9bb0cbc9c1bf5f2742a8_IMAG01_21.jpg\n",
      "https://image-comic.pstatic.net/webtoon/662774/142/20180707225814_4b71bd0a142a9bb0cbc9c1bf5f2742a8_IMAG01_22.jpg\n",
      "https://image-comic.pstatic.net/webtoon/662774/142/20180707225814_4b71bd0a142a9bb0cbc9c1bf5f2742a8_IMAG01_23.jpg\n",
      "https://image-comic.pstatic.net/webtoon/662774/142/20180707225814_4b71bd0a142a9bb0cbc9c1bf5f2742a8_IMAG01_24.jpg\n",
      "https://image-comic.pstatic.net/webtoon/662774/142/20180707225814_4b71bd0a142a9bb0cbc9c1bf5f2742a8_IMAG01_25.jpg\n",
      "https://image-comic.pstatic.net/webtoon/662774/142/20180707225814_4b71bd0a142a9bb0cbc9c1bf5f2742a8_IMAG01_26.jpg\n",
      "https://image-comic.pstatic.net/webtoon/662774/142/20180707225814_4b71bd0a142a9bb0cbc9c1bf5f2742a8_IMAG01_27.jpg\n",
      "https://image-comic.pstatic.net/webtoon/662774/142/20180707225814_4b71bd0a142a9bb0cbc9c1bf5f2742a8_IMAG01_28.jpg\n",
      "https://image-comic.pstatic.net/webtoon/662774/142/20180707225814_4b71bd0a142a9bb0cbc9c1bf5f2742a8_IMAG01_29.jpg\n",
      "https://image-comic.pstatic.net/webtoon/662774/142/20180707225814_4b71bd0a142a9bb0cbc9c1bf5f2742a8_IMAG01_30.jpg\n",
      "https://image-comic.pstatic.net/webtoon/662774/142/20180707225814_4b71bd0a142a9bb0cbc9c1bf5f2742a8_IMAG01_31.jpg\n",
      "https://image-comic.pstatic.net/webtoon/662774/142/20180707225814_4b71bd0a142a9bb0cbc9c1bf5f2742a8_IMAG01_32.jpg\n",
      "https://image-comic.pstatic.net/webtoon/662774/142/20180707225814_4b71bd0a142a9bb0cbc9c1bf5f2742a8_IMAG01_33.jpg\n",
      "https://image-comic.pstatic.net/webtoon/662774/142/20180707225814_4b71bd0a142a9bb0cbc9c1bf5f2742a8_IMAG01_34.jpg\n",
      "https://image-comic.pstatic.net/webtoon/662774/142/20180707225814_4b71bd0a142a9bb0cbc9c1bf5f2742a8_IMAG01_35.jpg\n",
      "https://image-comic.pstatic.net/webtoon/662774/142/20180707225814_4b71bd0a142a9bb0cbc9c1bf5f2742a8_IMAG01_36.jpg\n",
      "https://image-comic.pstatic.net/webtoon/662774/142/20180707225814_4b71bd0a142a9bb0cbc9c1bf5f2742a8_IMAG01_37.jpg\n",
      "https://image-comic.pstatic.net/webtoon/662774/142/20180707225814_4b71bd0a142a9bb0cbc9c1bf5f2742a8_IMAG01_38.jpg\n",
      "https://image-comic.pstatic.net/webtoon/662774/142/20180707225814_4b71bd0a142a9bb0cbc9c1bf5f2742a8_IMAG01_39.jpg\n",
      "https://image-comic.pstatic.net/webtoon/662774/142/20180707225814_4b71bd0a142a9bb0cbc9c1bf5f2742a8_IMAG01_40.jpg\n",
      "https://image-comic.pstatic.net/webtoon/662774/142/20180707225814_4b71bd0a142a9bb0cbc9c1bf5f2742a8_IMAG01_41.jpg\n",
      "https://image-comic.pstatic.net/webtoon/662774/142/20180707225814_4b71bd0a142a9bb0cbc9c1bf5f2742a8_IMAG01_42.jpg\n",
      "https://image-comic.pstatic.net/webtoon/662774/142/20180707225814_4b71bd0a142a9bb0cbc9c1bf5f2742a8_IMAG01_43.jpg\n",
      "https://image-comic.pstatic.net/webtoon/662774/142/20180707225814_4b71bd0a142a9bb0cbc9c1bf5f2742a8_IMAG01_44.jpg\n",
      "https://image-comic.pstatic.net/webtoon/662774/142/20180707225814_4b71bd0a142a9bb0cbc9c1bf5f2742a8_IMAG01_45.jpg\n",
      "https://image-comic.pstatic.net/webtoon/662774/142/20180707225814_4b71bd0a142a9bb0cbc9c1bf5f2742a8_IMAG01_46.jpg\n",
      "https://image-comic.pstatic.net/webtoon/662774/142/20180707225814_4b71bd0a142a9bb0cbc9c1bf5f2742a8_IMAG01_47.jpg\n",
      "https://image-comic.pstatic.net/webtoon/662774/142/20180707225814_4b71bd0a142a9bb0cbc9c1bf5f2742a8_IMAG01_48.jpg\n",
      "https://image-comic.pstatic.net/webtoon/662774/142/20180707225814_4b71bd0a142a9bb0cbc9c1bf5f2742a8_IMAG01_49.jpg\n",
      "https://image-comic.pstatic.net/webtoon/662774/142/20180707225814_4b71bd0a142a9bb0cbc9c1bf5f2742a8_IMAG01_50.jpg\n",
      "https://image-comic.pstatic.net/webtoon/662774/142/20180707225814_4b71bd0a142a9bb0cbc9c1bf5f2742a8_IMAG01_51.jpg\n",
      "https://image-comic.pstatic.net/webtoon/662774/142/20180707225814_4b71bd0a142a9bb0cbc9c1bf5f2742a8_IMAG01_52.jpg\n",
      "https://image-comic.pstatic.net/webtoon/662774/142/20180707225814_4b71bd0a142a9bb0cbc9c1bf5f2742a8_IMAG01_53.jpg\n",
      "https://image-comic.pstatic.net/webtoon/662774/142/20180707225814_4b71bd0a142a9bb0cbc9c1bf5f2742a8_IMAG01_54.jpg\n",
      "https://image-comic.pstatic.net/webtoon/662774/142/20180707225814_4b71bd0a142a9bb0cbc9c1bf5f2742a8_IMAG01_55.jpg\n",
      "https://image-comic.pstatic.net/webtoon/662774/142/20180707225814_4b71bd0a142a9bb0cbc9c1bf5f2742a8_IMAG01_56.jpg\n",
      "https://image-comic.pstatic.net/webtoon/662774/142/20180707225814_4b71bd0a142a9bb0cbc9c1bf5f2742a8_IMAG01_57.jpg\n",
      "https://image-comic.pstatic.net/webtoon/662774/142/20180707225814_4b71bd0a142a9bb0cbc9c1bf5f2742a8_IMAG01_58.jpg\n",
      "https://image-comic.pstatic.net/webtoon/662774/142/20180707225814_4b71bd0a142a9bb0cbc9c1bf5f2742a8_IMAG01_59.jpg\n",
      "https://image-comic.pstatic.net/webtoon/662774/142/20180707225814_4b71bd0a142a9bb0cbc9c1bf5f2742a8_IMAG01_60.jpg\n",
      "https://image-comic.pstatic.net/webtoon/662774/142/20180707225814_4b71bd0a142a9bb0cbc9c1bf5f2742a8_IMAG01_61.jpg\n",
      "https://image-comic.pstatic.net/webtoon/662774/142/20180707225814_4b71bd0a142a9bb0cbc9c1bf5f2742a8_IMAG01_62.jpg\n",
      "https://image-comic.pstatic.net/webtoon/662774/142/20180707225814_4b71bd0a142a9bb0cbc9c1bf5f2742a8_IMAG01_63.jpg\n",
      "https://image-comic.pstatic.net/webtoon/662774/142/20180707225814_4b71bd0a142a9bb0cbc9c1bf5f2742a8_IMAG01_64.jpg\n",
      "https://image-comic.pstatic.net/webtoon/662774/142/20180707225814_4b71bd0a142a9bb0cbc9c1bf5f2742a8_IMAG01_65.jpg\n",
      "https://image-comic.pstatic.net/webtoon/662774/142/20180707225814_4b71bd0a142a9bb0cbc9c1bf5f2742a8_IMAG01_66.jpg\n",
      "https://image-comic.pstatic.net/webtoon/662774/142/20180707225814_4b71bd0a142a9bb0cbc9c1bf5f2742a8_IMAG01_67.jpg\n",
      "https://image-comic.pstatic.net/webtoon/662774/142/20180707225814_4b71bd0a142a9bb0cbc9c1bf5f2742a8_IMAG01_68.jpg\n",
      "https://image-comic.pstatic.net/webtoon/662774/142/20180707225814_4b71bd0a142a9bb0cbc9c1bf5f2742a8_IMAG01_69.jpg\n",
      "https://image-comic.pstatic.net/webtoon/662774/142/20180707225814_4b71bd0a142a9bb0cbc9c1bf5f2742a8_IMAG01_70.jpg\n",
      "https://image-comic.pstatic.net/webtoon/662774/142/20180707225814_4b71bd0a142a9bb0cbc9c1bf5f2742a8_IMAG01_71.jpg\n",
      "https://image-comic.pstatic.net/webtoon/662774/142/20180707225814_4b71bd0a142a9bb0cbc9c1bf5f2742a8_IMAG01_72.jpg\n",
      "https://image-comic.pstatic.net/webtoon/662774/142/20180707225814_4b71bd0a142a9bb0cbc9c1bf5f2742a8_IMAG01_73.jpg\n"
     ]
    },
    {
     "name": "stdout",
     "output_type": "stream",
     "text": [
      "https://image-comic.pstatic.net/webtoon/662774/142/20180707225814_4b71bd0a142a9bb0cbc9c1bf5f2742a8_IMAG01_74.jpg\n",
      "https://image-comic.pstatic.net/webtoon/662774/142/20180707225814_4b71bd0a142a9bb0cbc9c1bf5f2742a8_IMAG01_75.jpg\n",
      "https://image-comic.pstatic.net/webtoon/662774/142/20180707225814_4b71bd0a142a9bb0cbc9c1bf5f2742a8_IMAG01_76.jpg\n",
      "https://ssl.pstatic.net/static/comic/images/txt_ads.png\n",
      "https://ssl.pstatic.net/static/comic/images/txt_ads.png\n"
     ]
    }
   ],
   "source": [
    "for image_url in image_url_list:\n",
    "    res = requests.get(image_url, headers={'Referer': comic_url})\n",
    "    image_data = res.content\n",
    "    image_name = os.path.basename(image_url)\n",
    "    \n",
    "    print(image_url)\n",
    "    with open(image_name, 'wb') as f:\n",
    "        f.write(image_data)"
   ]
  },
  {
   "cell_type": "markdown",
   "metadata": {},
   "source": [
    "### 집합(set)"
   ]
  },
  {
   "cell_type": "code",
   "execution_count": 72,
   "metadata": {},
   "outputs": [
    {
     "data": {
      "text/plain": [
       "{1, 3, 4, 5}"
      ]
     },
     "execution_count": 72,
     "metadata": {},
     "output_type": "execute_result"
    }
   ],
   "source": [
    "set_numbers ={1,3,4,5,1,4,3,1}\n",
    "set_numbers"
   ]
  },
  {
   "cell_type": "code",
   "execution_count": 73,
   "metadata": {},
   "outputs": [
    {
     "name": "stdout",
     "output_type": "stream",
     "text": [
      "1\n",
      "3\n",
      "4\n",
      "5\n"
     ]
    }
   ],
   "source": [
    "for value in set_numbers:\n",
    "    print(value)"
   ]
  },
  {
   "cell_type": "code",
   "execution_count": 74,
   "metadata": {},
   "outputs": [
    {
     "name": "stdout",
     "output_type": "stream",
     "text": [
      "5\n",
      "4\n",
      "3\n",
      "1\n"
     ]
    }
   ],
   "source": [
    "for value in sorted(set_numbers, reverse=True):\n",
    "    print(value)"
   ]
  },
  {
   "cell_type": "code",
   "execution_count": null,
   "metadata": {},
   "outputs": [],
   "source": []
  },
  {
   "cell_type": "code",
   "execution_count": 76,
   "metadata": {},
   "outputs": [],
   "source": [
    "mylist = []\n",
    "mylist = list()\n",
    "\n",
    "mytuple = ()\n",
    "mytuple = tuple()\n",
    "\n",
    "myset = set()\n",
    "\n",
    "mydict = {}\n",
    "mydict = dict()"
   ]
  },
  {
   "cell_type": "code",
   "execution_count": 77,
   "metadata": {},
   "outputs": [],
   "source": [
    "myset = {1,2,3}\n",
    "mydict = {'a':1, 'b':2, 'c':3}"
   ]
  },
  {
   "cell_type": "code",
   "execution_count": 78,
   "metadata": {},
   "outputs": [
    {
     "ename": "NameError",
     "evalue": "name 'df' is not defined",
     "output_type": "error",
     "traceback": [
      "\u001b[1;31m---------------------------------------------------------------------------\u001b[0m",
      "\u001b[1;31mNameError\u001b[0m                                 Traceback (most recent call last)",
      "\u001b[1;32m<ipython-input-78-00cf07b74dcd>\u001b[0m in \u001b[0;36m<module>\u001b[1;34m()\u001b[0m\n\u001b[1;32m----> 1\u001b[1;33m \u001b[0mdf\u001b[0m\u001b[1;33m\u001b[0m\u001b[0m\n\u001b[0m",
      "\u001b[1;31mNameError\u001b[0m: name 'df' is not defined"
     ]
    }
   ],
   "source": []
  },
  {
   "cell_type": "code",
   "execution_count": 79,
   "metadata": {},
   "outputs": [],
   "source": [
    "mylist = [1,2,4,5]"
   ]
  },
  {
   "cell_type": "markdown",
   "metadata": {},
   "source": [
    "### 사전(dict)"
   ]
  },
  {
   "cell_type": "code",
   "execution_count": 82,
   "metadata": {},
   "outputs": [],
   "source": [
    "학생목록 = [\n",
    "    {'이름':'김철수', '국어':100, '영어':90, '수학':70},\n",
    "    {'이름':'배철수', '국어':80, '영어':90, '수학':50},\n",
    "    {'이름':'이영희', '국어':70, '영어':100, '수학':90},\n",
    "]"
   ]
  },
  {
   "cell_type": "code",
   "execution_count": 83,
   "metadata": {},
   "outputs": [
    {
     "name": "stdout",
     "output_type": "stream",
     "text": [
      "김철수 86\n",
      "배철수 73\n",
      "이영희 86\n"
     ]
    }
   ],
   "source": [
    "for 학생 in 학생목록:\n",
    "    평균 = (학생['국어']+학생['영어']+학생['수학'])//3\n",
    "    print(학생['이름'], 평균)"
   ]
  },
  {
   "cell_type": "code",
   "execution_count": 84,
   "metadata": {},
   "outputs": [
    {
     "data": {
      "text/plain": [
       "{'이름': '김철수', '국어': 100, '영어': 90, '수학': 70}"
      ]
     },
     "execution_count": 84,
     "metadata": {},
     "output_type": "execute_result"
    }
   ],
   "source": [
    "철수 = {'이름':'김철수', '국어':100, '영어':90, '수학':70}\n",
    "철수"
   ]
  },
  {
   "cell_type": "code",
   "execution_count": 85,
   "metadata": {},
   "outputs": [
    {
     "data": {
      "text/plain": [
       "{'이름': '김철수', '국어': 100, '영어': 90, '수학': 70, '음악': 90}"
      ]
     },
     "execution_count": 85,
     "metadata": {},
     "output_type": "execute_result"
    }
   ],
   "source": [
    "철수['음악'] = 90\n",
    "철수"
   ]
  },
  {
   "cell_type": "code",
   "execution_count": 87,
   "metadata": {},
   "outputs": [
    {
     "data": {
      "text/plain": [
       "{'국어': 100, '영어': 90, '수학': 70, '음악': 90}"
      ]
     },
     "execution_count": 87,
     "metadata": {},
     "output_type": "execute_result"
    }
   ],
   "source": [
    "del 철수['이름']\n",
    "철수"
   ]
  },
  {
   "cell_type": "code",
   "execution_count": null,
   "metadata": {},
   "outputs": [],
   "source": [
    "for i in range(10)\n",
    "    print(i)"
   ]
  },
  {
   "cell_type": "markdown",
   "metadata": {},
   "source": [
    "### 주석"
   ]
  },
  {
   "cell_type": "code",
   "execution_count": 88,
   "metadata": {},
   "outputs": [
    {
     "data": {
      "text/plain": [
       "{'Tom': 10, 'steve': 12, 'john': 9, 'anderson': 14, 'bell': 8}"
      ]
     },
     "execution_count": 88,
     "metadata": {},
     "output_type": "execute_result"
    }
   ],
   "source": [
    "names = {\n",
    "    'Tom':10,\n",
    "    'steve':12,\n",
    "    'john':9,\n",
    "    'anderson':14,\n",
    "    'bell':8\n",
    "}\n",
    "names"
   ]
  },
  {
   "cell_type": "code",
   "execution_count": 89,
   "metadata": {},
   "outputs": [],
   "source": [
    "def myprint(message, times):\n",
    "    for i in range(times):\n",
    "        print(message)"
   ]
  },
  {
   "cell_type": "code",
   "execution_count": 90,
   "metadata": {},
   "outputs": [
    {
     "name": "stdout",
     "output_type": "stream",
     "text": [
      "hello\n",
      "hello\n",
      "hello\n"
     ]
    }
   ],
   "source": [
    "리턴값 = myprint(\"hello\", 3)"
   ]
  },
  {
   "cell_type": "code",
   "execution_count": 92,
   "metadata": {},
   "outputs": [
    {
     "name": "stdout",
     "output_type": "stream",
     "text": [
      "None\n"
     ]
    }
   ],
   "source": [
    "print(리턴값)"
   ]
  },
  {
   "cell_type": "code",
   "execution_count": 95,
   "metadata": {},
   "outputs": [],
   "source": [
    "def mysum(x, y):\n",
    "    if x > 0:\n",
    "        return x + y + 10"
   ]
  },
  {
   "cell_type": "code",
   "execution_count": 96,
   "metadata": {},
   "outputs": [],
   "source": [
    "mysum(-1, 2)"
   ]
  },
  {
   "cell_type": "code",
   "execution_count": 97,
   "metadata": {},
   "outputs": [
    {
     "ename": "IndexError",
     "evalue": "tuple index out of range",
     "output_type": "error",
     "traceback": [
      "\u001b[1;31m---------------------------------------------------------------------------\u001b[0m",
      "\u001b[1;31mIndexError\u001b[0m                                Traceback (most recent call last)",
      "\u001b[1;32m<ipython-input-97-b1e0265d0cd7>\u001b[0m in \u001b[0;36m<module>\u001b[1;34m()\u001b[0m\n\u001b[1;32m----> 1\u001b[1;33m \u001b[1;34m'안녕 {}야. {}에서 왔구나.'\u001b[0m\u001b[1;33m.\u001b[0m\u001b[0mformat\u001b[0m\u001b[1;33m(\u001b[0m\u001b[0m이름\u001b[0m\u001b[1;33m=\u001b[0m\u001b[1;34m\"철수\"\u001b[0m\u001b[1;33m,\u001b[0m \u001b[0m지역\u001b[0m\u001b[1;33m=\u001b[0m\u001b[1;34m\"부산\"\u001b[0m\u001b[1;33m)\u001b[0m\u001b[1;33m\u001b[0m\u001b[0m\n\u001b[0m",
      "\u001b[1;31mIndexError\u001b[0m: tuple index out of range"
     ]
    }
   ],
   "source": [
    "'안녕 {}야. {}에서 왔구나.'.format(이름=\"철수\", 지역=\"부산\")"
   ]
  },
  {
   "cell_type": "code",
   "execution_count": 99,
   "metadata": {},
   "outputs": [],
   "source": [
    "def mysum(x, y):\n",
    "    return x ** y + 10"
   ]
  },
  {
   "cell_type": "code",
   "execution_count": 100,
   "metadata": {},
   "outputs": [
    {
     "data": {
      "text/plain": [
       "11"
      ]
     },
     "execution_count": 100,
     "metadata": {},
     "output_type": "execute_result"
    }
   ],
   "source": [
    "mysum(1, 2)"
   ]
  },
  {
   "cell_type": "code",
   "execution_count": 101,
   "metadata": {},
   "outputs": [
    {
     "data": {
      "text/plain": [
       "12"
      ]
     },
     "execution_count": 101,
     "metadata": {},
     "output_type": "execute_result"
    }
   ],
   "source": [
    "mysum(2, 1)"
   ]
  },
  {
   "cell_type": "code",
   "execution_count": 102,
   "metadata": {},
   "outputs": [
    {
     "data": {
      "text/plain": [
       "11"
      ]
     },
     "execution_count": 102,
     "metadata": {},
     "output_type": "execute_result"
    }
   ],
   "source": [
    "mysum(x=1, y=2)"
   ]
  },
  {
   "cell_type": "code",
   "execution_count": 104,
   "metadata": {},
   "outputs": [
    {
     "data": {
      "text/plain": [
       "11"
      ]
     },
     "execution_count": 104,
     "metadata": {},
     "output_type": "execute_result"
    }
   ],
   "source": [
    "mysum(y=2, x=1)"
   ]
  },
  {
   "cell_type": "code",
   "execution_count": 105,
   "metadata": {},
   "outputs": [],
   "source": [
    "def mysum(x, y, base=0):\n",
    "    return x ** y+ base"
   ]
  },
  {
   "cell_type": "code",
   "execution_count": 106,
   "metadata": {},
   "outputs": [
    {
     "data": {
      "text/plain": [
       "1"
      ]
     },
     "execution_count": 106,
     "metadata": {},
     "output_type": "execute_result"
    }
   ],
   "source": [
    "mysum(1, 3)"
   ]
  },
  {
   "cell_type": "code",
   "execution_count": 107,
   "metadata": {},
   "outputs": [
    {
     "data": {
      "text/plain": [
       "5"
      ]
     },
     "execution_count": 107,
     "metadata": {},
     "output_type": "execute_result"
    }
   ],
   "source": [
    "mysum(1, 3, 4)"
   ]
  },
  {
   "cell_type": "code",
   "execution_count": 108,
   "metadata": {},
   "outputs": [],
   "source": [
    "import pandas as pd\n",
    "pd.DataFrame?"
   ]
  },
  {
   "cell_type": "code",
   "execution_count": 109,
   "metadata": {},
   "outputs": [
    {
     "data": {
      "text/plain": [
       "[10, 20, 30, 40]"
      ]
     },
     "execution_count": 109,
     "metadata": {},
     "output_type": "execute_result"
    }
   ],
   "source": [
    "v1 = 10\n",
    "v2 = 20\n",
    "v3 = 30\n",
    "v4 = 40\n",
    "\n",
    "[v1,v2,v3,v4]"
   ]
  },
  {
   "cell_type": "code",
   "execution_count": 110,
   "metadata": {},
   "outputs": [
    {
     "data": {
      "text/plain": [
       "[10, 20, 30, 40]"
      ]
     },
     "execution_count": 110,
     "metadata": {},
     "output_type": "execute_result"
    }
   ],
   "source": [
    "v1 = 10\n",
    "v2 = 20\n",
    "v3 = 30\n",
    "v4 = 40\n",
    "\n",
    "[v1,v2,v3,v4]"
   ]
  },
  {
   "cell_type": "code",
   "execution_count": 111,
   "metadata": {},
   "outputs": [],
   "source": [
    "mylist = [10,20,30,40]\n",
    "v1,v2,v3,v4 = mylist"
   ]
  },
  {
   "cell_type": "code",
   "execution_count": 112,
   "metadata": {},
   "outputs": [],
   "source": [
    "def mysum(a,b,c,d,e):\n",
    "    return a + b + c + d + e"
   ]
  },
  {
   "cell_type": "code",
   "execution_count": 113,
   "metadata": {},
   "outputs": [
    {
     "data": {
      "text/plain": [
       "150"
      ]
     },
     "execution_count": 113,
     "metadata": {},
     "output_type": "execute_result"
    }
   ],
   "source": [
    "values = [10,20,30,40,50]\n",
    "mysum(values[0],values[1],values[2],values[3],values[4])"
   ]
  },
  {
   "cell_type": "markdown",
   "metadata": {},
   "source": [
    "## 익명함수\n",
    "파이썬은 1급 함수 (First-Class Function)를 지원하는 언어닙니다."
   ]
  },
  {
   "cell_type": "code",
   "execution_count": 114,
   "metadata": {},
   "outputs": [],
   "source": [
    "def mysum(x,y):\n",
    "    return x + y + 10"
   ]
  },
  {
   "cell_type": "code",
   "execution_count": 115,
   "metadata": {},
   "outputs": [],
   "source": [
    "fn = mysum"
   ]
  },
  {
   "cell_type": "code",
   "execution_count": 116,
   "metadata": {},
   "outputs": [
    {
     "data": {
      "text/plain": [
       "13"
      ]
     },
     "execution_count": 116,
     "metadata": {},
     "output_type": "execute_result"
    }
   ],
   "source": [
    "fn(1,2)"
   ]
  },
  {
   "cell_type": "code",
   "execution_count": 118,
   "metadata": {},
   "outputs": [
    {
     "data": {
      "text/plain": [
       "13"
      ]
     },
     "execution_count": 118,
     "metadata": {},
     "output_type": "execute_result"
    }
   ],
   "source": [
    "(lambda x, y: x + y + 10)(1, 2)"
   ]
  },
  {
   "cell_type": "code",
   "execution_count": 119,
   "metadata": {},
   "outputs": [],
   "source": [
    "mydum = lambda x, y: x + y + 10"
   ]
  },
  {
   "cell_type": "code",
   "execution_count": 122,
   "metadata": {},
   "outputs": [],
   "source": [
    "def make_fn(base):\n",
    "    fn =  lambda x, y: x + y +base # make_fn사용 될 때마다 새로 함수생성\n",
    "    return fn"
   ]
  },
  {
   "cell_type": "code",
   "execution_count": 123,
   "metadata": {},
   "outputs": [],
   "source": [
    "base_10 = make_fn(10)\n",
    "base_20 = make_fn(20)\n",
    "base_30 = make_fn(30)"
   ]
  },
  {
   "cell_type": "markdown",
   "metadata": {},
   "source": [
    "## 장식자(Decorator)"
   ]
  },
  {
   "cell_type": "code",
   "execution_count": 124,
   "metadata": {},
   "outputs": [],
   "source": [
    "import time"
   ]
  },
  {
   "cell_type": "code",
   "execution_count": 134,
   "metadata": {},
   "outputs": [],
   "source": [
    "cached1 = {}\n",
    "\n",
    "def mysum(x,y):\n",
    "    key = (x, y)\n",
    "    if key not in cached1:\n",
    "        time.sleep(3)\n",
    "        cached1[key] = x + y + 10\n",
    "    return cached1[key]\n",
    "\n",
    "cached2 = {}\n",
    "\n",
    "def mymultiply(x,y):\n",
    "    key = (x, y)\n",
    "    if key not in cached2:\n",
    "        time.sleep(3)\n",
    "        cached2[key] = x * y + 10\n",
    "    return cached2[key]\n"
   ]
  },
  {
   "cell_type": "code",
   "execution_count": 135,
   "metadata": {},
   "outputs": [
    {
     "name": "stdout",
     "output_type": "stream",
     "text": [
      "13\n",
      "13\n",
      "13\n",
      "12\n"
     ]
    }
   ],
   "source": [
    "print(mysum(1, 2))\n",
    "print(mysum(1, 2))\n",
    "print(mysum(1, 2))\n",
    "print(mymultiply(1, 2))"
   ]
  },
  {
   "cell_type": "code",
   "execution_count": null,
   "metadata": {},
   "outputs": [],
   "source": [
    "def memoize(fn):\n",
    "    cached = {}\n",
    "    def warp(x, y):\n",
    "        key = (x, y)\n",
    "        if key in cached\n",
    "\n",
    "def mysum(x,y):\n",
    "    time.sleep(3)\n",
    "    return x + y + 10\n",
    "\n",
    "def mymultiply(x,y):\n",
    "    time.sleep(3)\n",
    "    return x * y + 10\n"
   ]
  },
  {
   "cell_type": "markdown",
   "metadata": {},
   "source": [
    "### Simple"
   ]
  },
  {
   "cell_type": "code",
   "execution_count": 136,
   "metadata": {},
   "outputs": [],
   "source": [
    "def base_10(fn):\n",
    "    warp = lambda x, y: fn(x, y) + 10\n",
    "    return warp"
   ]
  },
  {
   "cell_type": "code",
   "execution_count": 138,
   "metadata": {},
   "outputs": [],
   "source": [
    "def mysum(x, y):\n",
    "    return x + y\n",
    "\n",
    "mysum = base_10(mysum)"
   ]
  },
  {
   "cell_type": "code",
   "execution_count": 139,
   "metadata": {},
   "outputs": [
    {
     "data": {
      "text/plain": [
       "13"
      ]
     },
     "execution_count": 139,
     "metadata": {},
     "output_type": "execute_result"
    }
   ],
   "source": [
    "mysum(1, 2)"
   ]
  },
  {
   "cell_type": "markdown",
   "metadata": {},
   "source": [
    "### 인코딩"
   ]
  },
  {
   "cell_type": "code",
   "execution_count": 140,
   "metadata": {},
   "outputs": [
    {
     "data": {
      "text/plain": [
       "'나다라마바사아자차카타파하'"
      ]
     },
     "execution_count": 140,
     "metadata": {},
     "output_type": "execute_result"
    }
   ],
   "source": [
    "\"가나다라마바사아자차카타파하\"[1:]"
   ]
  },
  {
   "cell_type": "code",
   "execution_count": 141,
   "metadata": {},
   "outputs": [
    {
     "data": {
      "text/plain": [
       "2"
      ]
     },
     "execution_count": 141,
     "metadata": {},
     "output_type": "execute_result"
    }
   ],
   "source": [
    "len(\"안녕\")"
   ]
  },
  {
   "cell_type": "code",
   "execution_count": 142,
   "metadata": {},
   "outputs": [
    {
     "data": {
      "text/plain": [
       "b'\\xec\\x95\\x88\\xeb\\x85\\x95'"
      ]
     },
     "execution_count": 142,
     "metadata": {},
     "output_type": "execute_result"
    }
   ],
   "source": [
    "\"안녕\".encode(\"utf8\")"
   ]
  },
  {
   "cell_type": "code",
   "execution_count": 143,
   "metadata": {},
   "outputs": [
    {
     "data": {
      "text/plain": [
       "b'\\xbe\\xc8\\xb3\\xe7'"
      ]
     },
     "execution_count": 143,
     "metadata": {},
     "output_type": "execute_result"
    }
   ],
   "source": [
    "\"안녕\".encode(\"cp949\")"
   ]
  },
  {
   "cell_type": "code",
   "execution_count": 146,
   "metadata": {},
   "outputs": [],
   "source": [
    "utf8_data = \"안녕\".encode(\"utf8\")\n",
    "\n",
    "f = open(\"안녕.txt\", \"wb\")\n",
    "f.write(utf8_data)\n",
    "f.close()"
   ]
  },
  {
   "cell_type": "code",
   "execution_count": null,
   "metadata": {},
   "outputs": [],
   "source": [
    "\n"
   ]
  },
  {
   "cell_type": "code",
   "execution_count": 147,
   "metadata": {},
   "outputs": [],
   "source": [
    "utf8_data = \"안녕\".encode(\"utf8\")\n",
    "\n",
    "with open(\"안녕.txt\", \"wb\") as f:\n",
    "    f.write(utf8_data)"
   ]
  },
  {
   "cell_type": "code",
   "execution_count": 152,
   "metadata": {},
   "outputs": [],
   "source": [
    "#utf8_data = \"안녕\".encode(\"utf8\")\n",
    "unicode_data = \"안녕\"\n",
    "\n",
    "with open(\"안녕.txt\", \"wt\", encoding=\"utf8\") as f:\n",
    "    f.write(unicode_data)\n",
    "    f.write(\"가\")\n",
    "    f.write(\"나\")\n",
    "    f.write(\"다\")\n",
    "    f.write(\"라\")"
   ]
  },
  {
   "cell_type": "code",
   "execution_count": 153,
   "metadata": {},
   "outputs": [
    {
     "ename": "FileNotFoundError",
     "evalue": "[Errno 2] No such file or directory: '정말 큰 파일.txt'",
     "output_type": "error",
     "traceback": [
      "\u001b[1;31m---------------------------------------------------------------------------\u001b[0m",
      "\u001b[1;31mFileNotFoundError\u001b[0m                         Traceback (most recent call last)",
      "\u001b[1;32m<ipython-input-153-b9a102799d44>\u001b[0m in \u001b[0;36m<module>\u001b[1;34m()\u001b[0m\n\u001b[1;32m----> 1\u001b[1;33m \u001b[1;32mwith\u001b[0m \u001b[0mopen\u001b[0m\u001b[1;33m(\u001b[0m\u001b[1;34m\"정말 큰 파일.txt\"\u001b[0m\u001b[1;33m,\u001b[0m\u001b[1;34m\"rt\"\u001b[0m\u001b[1;33m,\u001b[0m \u001b[0mencoding\u001b[0m\u001b[1;33m=\u001b[0m\u001b[1;34m\"utf8\"\u001b[0m\u001b[1;33m)\u001b[0m \u001b[1;32mas\u001b[0m \u001b[0mf\u001b[0m\u001b[1;33m:\u001b[0m\u001b[1;33m\u001b[0m\u001b[0m\n\u001b[0m\u001b[0;32m      2\u001b[0m     \u001b[0mlines\u001b[0m \u001b[1;33m=\u001b[0m \u001b[0mf\u001b[0m\u001b[1;33m.\u001b[0m\u001b[0mread\u001b[0m\u001b[1;33m(\u001b[0m\u001b[1;33m)\u001b[0m\u001b[1;33m.\u001b[0m\u001b[0msplitlines\u001b[0m\u001b[1;33m(\u001b[0m\u001b[1;33m)\u001b[0m\u001b[1;33m\u001b[0m\u001b[0m\n\u001b[0;32m      3\u001b[0m     \u001b[1;32mfor\u001b[0m \u001b[0mline\u001b[0m \u001b[1;32min\u001b[0m \u001b[0mlines\u001b[0m\u001b[1;33m:\u001b[0m\u001b[1;33m\u001b[0m\u001b[0m\n\u001b[0;32m      4\u001b[0m         \u001b[1;32mpass\u001b[0m\u001b[1;33m\u001b[0m\u001b[0m\n",
      "\u001b[1;31mFileNotFoundError\u001b[0m: [Errno 2] No such file or directory: '정말 큰 파일.txt'"
     ]
    }
   ],
   "source": [
    "with open(\"정말 큰 파일.txt\",\"rt\", encoding=\"utf8\") as f:\n",
    "    lines = f.read().splitlines()\n",
    "    for line in lines:\n",
    "        pass"
   ]
  },
  {
   "cell_type": "code",
   "execution_count": null,
   "metadata": {},
   "outputs": [],
   "source": []
  }
 ],
 "metadata": {
  "kernelspec": {
   "display_name": "Python 3",
   "language": "python",
   "name": "python3"
  },
  "language_info": {
   "codemirror_mode": {
    "name": "ipython",
    "version": 3
   },
   "file_extension": ".py",
   "mimetype": "text/x-python",
   "name": "python",
   "nbconvert_exporter": "python",
   "pygments_lexer": "ipython3",
   "version": "3.6.5"
  }
 },
 "nbformat": 4,
 "nbformat_minor": 2
}
